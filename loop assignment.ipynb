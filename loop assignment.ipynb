{
 "cells": [
  {
   "cell_type": "code",
   "execution_count": 1,
   "id": "89e28b32",
   "metadata": {},
   "outputs": [],
   "source": [
    "#Program for addition of odd numbers from 1- 20 using \"for\" loop"
   ]
  },
  {
   "cell_type": "code",
   "execution_count": 5,
   "id": "dd621d05",
   "metadata": {},
   "outputs": [
    {
     "name": "stdout",
     "output_type": "stream",
     "text": [
      "the addition of odd numbers is 100\n"
     ]
    }
   ],
   "source": [
    "total = 0\n",
    "for i in range(1,21):\n",
    "    if i%2 !=0:\n",
    "        total = total + i\n",
    "print(f\"the addition of odd numbers is {total}\")"
   ]
  },
  {
   "cell_type": "code",
   "execution_count": null,
   "id": "34267fbc",
   "metadata": {},
   "outputs": [],
   "source": [
    "#Program for addition of odd numbers from 1- 20 using \"while\" loop"
   ]
  },
  {
   "cell_type": "code",
   "execution_count": 8,
   "id": "3286f354",
   "metadata": {},
   "outputs": [
    {
     "name": "stdout",
     "output_type": "stream",
     "text": [
      "The addition of odd numbers is 100\n"
     ]
    }
   ],
   "source": [
    "total = 0\n",
    "i = 0\n",
    "while i < 21:\n",
    "    if i%2 != 0:\n",
    "        total = total + i\n",
    "    i += 1\n",
    "print(f\"The addition of odd numbers is {total}\")"
   ]
  },
  {
   "cell_type": "code",
   "execution_count": 9,
   "id": "f752d61a",
   "metadata": {},
   "outputs": [],
   "source": [
    "#Program to print \"*\" in reverse order of 5 rows"
   ]
  },
  {
   "cell_type": "code",
   "execution_count": 14,
   "id": "706928ba",
   "metadata": {},
   "outputs": [
    {
     "name": "stdout",
     "output_type": "stream",
     "text": [
      "* * * * *  \n",
      "* * * *  \n",
      "* * *  \n",
      "* *  \n",
      "*  \n",
      " \n"
     ]
    }
   ],
   "source": [
    "n = 5\n",
    "for i in range(n+1, 0, -1):    \n",
    "    for j in range(0, i - 1):\n",
    "        print(\"*\", end=' ')  \n",
    "    print(\" \")"
   ]
  },
  {
   "cell_type": "code",
   "execution_count": 1,
   "id": "fdde9883",
   "metadata": {},
   "outputs": [],
   "source": [
    "# Program to print name 10 times"
   ]
  },
  {
   "cell_type": "code",
   "execution_count": 2,
   "id": "1cbed0ea",
   "metadata": {},
   "outputs": [
    {
     "name": "stdout",
     "output_type": "stream",
     "text": [
      "Mayuresh\n",
      "Mayuresh\n",
      "Mayuresh\n",
      "Mayuresh\n",
      "Mayuresh\n",
      "Mayuresh\n",
      "Mayuresh\n",
      "Mayuresh\n",
      "Mayuresh\n",
      "Mayuresh\n"
     ]
    }
   ],
   "source": [
    "for i in range(1,11):\n",
    "    print(\"Mayuresh\")"
   ]
  },
  {
   "cell_type": "code",
   "execution_count": 4,
   "id": "7f97e5c6",
   "metadata": {},
   "outputs": [],
   "source": [
    "# Find addition of first 10 natural numbers using for loop"
   ]
  },
  {
   "cell_type": "code",
   "execution_count": 5,
   "id": "42a80e98",
   "metadata": {},
   "outputs": [
    {
     "name": "stdout",
     "output_type": "stream",
     "text": [
      "The addition of first 10 natural numbers is : 55\n"
     ]
    }
   ],
   "source": [
    "res = 0\n",
    "for i in range(1,11):\n",
    "    res = res + i\n",
    "print(\"The addition of first 10 natural numbers is :\",res)"
   ]
  },
  {
   "cell_type": "code",
   "execution_count": 6,
   "id": "0f1fa2d9",
   "metadata": {},
   "outputs": [],
   "source": [
    "#Read a number from user and find the factorial of the number."
   ]
  },
  {
   "cell_type": "code",
   "execution_count": 8,
   "id": "22d9a6b2",
   "metadata": {},
   "outputs": [
    {
     "name": "stdout",
     "output_type": "stream",
     "text": [
      "Enter the number7\n",
      "The factorial of 7 is 5040\n"
     ]
    }
   ],
   "source": [
    "fact = 1\n",
    "num = int(input(\"Enter the number\"))\n",
    "if num < 0:\n",
    "    print(\"Factorial of number less than 0 does not exist\")\n",
    "elif num == 0:\n",
    "    print(\"Factorial of 0 is 1\")\n",
    "elif num > 0:\n",
    "    for i in range(1,num +1):\n",
    "        fact = fact * i\n",
    "    print(f\"The factorial of {num} is {fact}\")"
   ]
  },
  {
   "cell_type": "code",
   "execution_count": 9,
   "id": "c570c3f8",
   "metadata": {},
   "outputs": [],
   "source": [
    "#Take a number user input and find sum of digits of this number"
   ]
  },
  {
   "cell_type": "code",
   "execution_count": 14,
   "id": "bbe49172",
   "metadata": {},
   "outputs": [
    {
     "name": "stdout",
     "output_type": "stream",
     "text": [
      "Enter the number123\n",
      "The addition of digit is : 6\n"
     ]
    }
   ],
   "source": [
    "num = int(input(\"Enter the number\"))\n",
    "add = 0\n",
    "while(num>0):\n",
    "    digit = num%10\n",
    "    add = add + digit\n",
    "    num = num//10\n",
    "print(\"The addition of digit is :\",add)"
   ]
  },
  {
   "cell_type": "code",
   "execution_count": 15,
   "id": "8130d002",
   "metadata": {},
   "outputs": [],
   "source": [
    "# Read a number from keyboard and print it in reverse"
   ]
  },
  {
   "cell_type": "code",
   "execution_count": 19,
   "id": "b64b770e",
   "metadata": {},
   "outputs": [
    {
     "name": "stdout",
     "output_type": "stream",
     "text": [
      "enter a number123\n",
      "reversed number is 321\n"
     ]
    }
   ],
   "source": [
    "num = int(input(\"enter a number\"))\n",
    "reverse = 0\n",
    "while num>0:\n",
    "    digit = num%10\n",
    "    reverse = (reverse*10) + digit\n",
    "    num//=10\n",
    "print(\"reversed number is\",reverse)"
   ]
  },
  {
   "cell_type": "code",
   "execution_count": 20,
   "id": "24f3415e",
   "metadata": {},
   "outputs": [],
   "source": [
    "#Write a program to print Fibonacci series up to n terms"
   ]
  },
  {
   "cell_type": "code",
   "execution_count": 32,
   "id": "bba831ab",
   "metadata": {},
   "outputs": [
    {
     "name": "stdout",
     "output_type": "stream",
     "text": [
      "enter the limit10\n",
      "0\n",
      "1\n",
      "1\n",
      "2\n",
      "3\n",
      "5\n",
      "8\n",
      "13\n",
      "21\n",
      "34\n"
     ]
    }
   ],
   "source": [
    "nterm = int(input(\"enter the limit\"))\n",
    "cnt = 0\n",
    "n1, n2 = 0,1\n",
    "if nterm <= 0:\n",
    "    print(\"Enter number greater than 0\")\n",
    "elif nterm == 1:\n",
    "    print(nterm)\n",
    "else:\n",
    "    while cnt < nterm:\n",
    "        print(n1)\n",
    "        nth = n1 + n2\n",
    "        n1 = n2\n",
    "        n2 = nth\n",
    "        cnt += 1\n",
    "\n",
    "\n"
   ]
  },
  {
   "cell_type": "code",
   "execution_count": 1,
   "id": "40b21747",
   "metadata": {},
   "outputs": [],
   "source": [
    "# Write a program to check whether entered number if prime or not"
   ]
  },
  {
   "cell_type": "code",
   "execution_count": 15,
   "id": "e4ee6a72",
   "metadata": {},
   "outputs": [
    {
     "name": "stdout",
     "output_type": "stream",
     "text": [
      "enter the number to check19\n",
      "The number is prime\n"
     ]
    }
   ],
   "source": [
    "num = int(input(\"enter the number to check\"))\n",
    "flag = 0\n",
    "if num < 1:\n",
    "    print(\"please enter number greater than 1\")\n",
    "    \n",
    "if num > 1:\n",
    "    for i in range(2,num):\n",
    "        if num%i==0:\n",
    "            flag = 1\n",
    "            break\n",
    "    if flag == 1:\n",
    "        print(\"The number is composite\")\n",
    "    else:\n",
    "        print(\"The number is prime\")"
   ]
  },
  {
   "cell_type": "code",
   "execution_count": 14,
   "id": "fac58042",
   "metadata": {},
   "outputs": [],
   "source": [
    "#Write a program to print all the prime numbers from 5 to 50"
   ]
  },
  {
   "cell_type": "code",
   "execution_count": 17,
   "id": "e66ccce7",
   "metadata": {},
   "outputs": [
    {
     "name": "stdout",
     "output_type": "stream",
     "text": [
      "5\n",
      "7\n",
      "11\n",
      "13\n",
      "17\n",
      "19\n",
      "23\n",
      "29\n",
      "31\n",
      "37\n",
      "41\n",
      "43\n",
      "47\n"
     ]
    }
   ],
   "source": [
    "for num in range(5,50):\n",
    "    for i in range(2,num):\n",
    "        if num%i==0:\n",
    "            break\n",
    "    else:\n",
    "            print(num)"
   ]
  },
  {
   "cell_type": "code",
   "execution_count": 18,
   "id": "d6ebd00d",
   "metadata": {},
   "outputs": [],
   "source": [
    "# #Print following pattern:\n",
    "# 1\n",
    "# 2 2\n",
    "# 3 3 3\n",
    "# 4 4 4 4\n",
    "# 5 5 5 5 5"
   ]
  },
  {
   "cell_type": "code",
   "execution_count": 26,
   "id": "4ded9b4e",
   "metadata": {},
   "outputs": [
    {
     "name": "stdout",
     "output_type": "stream",
     "text": [
      "1 \n",
      "2 2 \n",
      "3 3 3 \n",
      "4 4 4 4 \n",
      "5 5 5 5 5 \n"
     ]
    }
   ],
   "source": [
    "for i in range(1,6):\n",
    "    for j in range(i):\n",
    "        print(i,end=\" \")\n",
    "    print()"
   ]
  },
  {
   "cell_type": "code",
   "execution_count": 27,
   "id": "8d8cbcb0",
   "metadata": {},
   "outputs": [],
   "source": [
    "#Find power of x raised to y from user input"
   ]
  },
  {
   "cell_type": "code",
   "execution_count": 30,
   "id": "d4f8d9b6",
   "metadata": {},
   "outputs": [
    {
     "name": "stdout",
     "output_type": "stream",
     "text": [
      "enter the number10\n",
      "enter the power3\n",
      "1000\n"
     ]
    }
   ],
   "source": [
    "x = int(input(\"enter the number\"))\n",
    "y = int(input(\"enter the power\"))\n",
    "power = 1\n",
    "for i in range(1,y+1):\n",
    "    power = power*x\n",
    "print(power)\n"
   ]
  },
  {
   "cell_type": "code",
   "execution_count": null,
   "id": "3b28420e",
   "metadata": {},
   "outputs": [],
   "source": []
  }
 ],
 "metadata": {
  "kernelspec": {
   "display_name": "Python 3",
   "language": "python",
   "name": "python3"
  },
  "language_info": {
   "codemirror_mode": {
    "name": "ipython",
    "version": 3
   },
   "file_extension": ".py",
   "mimetype": "text/x-python",
   "name": "python",
   "nbconvert_exporter": "python",
   "pygments_lexer": "ipython3",
   "version": "3.8.8"
  }
 },
 "nbformat": 4,
 "nbformat_minor": 5
}
