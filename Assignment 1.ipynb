{
 "cells": [
  {
   "cell_type": "markdown",
   "id": "d15c35da",
   "metadata": {},
   "source": [
    "# Program to find the maximum number"
   ]
  },
  {
   "cell_type": "code",
   "execution_count": 9,
   "id": "24775bff",
   "metadata": {},
   "outputs": [
    {
     "name": "stdout",
     "output_type": "stream",
     "text": [
      "enter the first number50\n",
      "enter the second number34\n",
      "enter the third number89\n",
      "89 is greater number\n"
     ]
    }
   ],
   "source": [
    "n1 = int(input(\"enter the first number\"))\n",
    "n2 = int(input(\"enter the second number\"))\n",
    "n3 = int(input(\"enter the third number\"))\n",
    "if n1 > n2 and n1 > n3:\n",
    "    print(f\"{n1} is greater number\")\n",
    "elif n2 > n1 and n2 > n3:\n",
    "    print(f\"{n2} is greater number\")\n",
    "else:\n",
    "    print(f\"{n3} is greater number\")"
   ]
  },
  {
   "cell_type": "markdown",
   "id": "cfb4c0b0",
   "metadata": {},
   "source": [
    "# Program To find even or odd"
   ]
  },
  {
   "cell_type": "code",
   "execution_count": 5,
   "id": "6fb10fd7",
   "metadata": {},
   "outputs": [
    {
     "name": "stdout",
     "output_type": "stream",
     "text": [
      "Enter the number2\n",
      "2 is an even number\n"
     ]
    }
   ],
   "source": [
    "num = int(input(\"Enter the number\"))\n",
    "if num > 0:\n",
    "    if num%2 == 0:\n",
    "        print(f\"{num} is an even number\")\n",
    "    else:\n",
    "        print(f\"{num} is an odd number\")\n",
    "else:\n",
    "    print(\"0 is neither even nor odd\")"
   ]
  },
  {
   "cell_type": "code",
   "execution_count": null,
   "id": "786a7880",
   "metadata": {},
   "outputs": [],
   "source": []
  }
 ],
 "metadata": {
  "kernelspec": {
   "display_name": "Python 3",
   "language": "python",
   "name": "python3"
  },
  "language_info": {
   "codemirror_mode": {
    "name": "ipython",
    "version": 3
   },
   "file_extension": ".py",
   "mimetype": "text/x-python",
   "name": "python",
   "nbconvert_exporter": "python",
   "pygments_lexer": "ipython3",
   "version": "3.8.8"
  }
 },
 "nbformat": 4,
 "nbformat_minor": 5
}
