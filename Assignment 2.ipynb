{
 "cells": [
  {
   "cell_type": "code",
   "execution_count": 1,
   "id": "89e28b32",
   "metadata": {},
   "outputs": [],
   "source": [
    "#Program for addition of odd numbers from 1- 20 using \"for\" loop"
   ]
  },
  {
   "cell_type": "code",
   "execution_count": 5,
   "id": "dd621d05",
   "metadata": {},
   "outputs": [
    {
     "name": "stdout",
     "output_type": "stream",
     "text": [
      "the addition of odd numbers is 100\n"
     ]
    }
   ],
   "source": [
    "total = 0\n",
    "for i in range(1,21):\n",
    "    if i%2 !=0:\n",
    "        total = total + i\n",
    "print(f\"the addition of odd numbers is {total}\")"
   ]
  },
  {
   "cell_type": "code",
   "execution_count": null,
   "id": "34267fbc",
   "metadata": {},
   "outputs": [],
   "source": [
    "#Program for addition of odd numbers from 1- 20 using \"while\" loop"
   ]
  },
  {
   "cell_type": "code",
   "execution_count": 8,
   "id": "3286f354",
   "metadata": {},
   "outputs": [
    {
     "name": "stdout",
     "output_type": "stream",
     "text": [
      "The addition of odd numbers is 100\n"
     ]
    }
   ],
   "source": [
    "total = 0\n",
    "i = 0\n",
    "while i < 21:\n",
    "    if i%2 != 0:\n",
    "        total = total + i\n",
    "    i += 1\n",
    "print(f\"The addition of odd numbers is {total}\")"
   ]
  },
  {
   "cell_type": "code",
   "execution_count": 9,
   "id": "f752d61a",
   "metadata": {},
   "outputs": [],
   "source": [
    "#Program to print \"*\" in reverse order of 5 rows"
   ]
  },
  {
   "cell_type": "code",
   "execution_count": 14,
   "id": "706928ba",
   "metadata": {},
   "outputs": [
    {
     "name": "stdout",
     "output_type": "stream",
     "text": [
      "* * * * *  \n",
      "* * * *  \n",
      "* * *  \n",
      "* *  \n",
      "*  \n",
      " \n"
     ]
    }
   ],
   "source": [
    "n = 5\n",
    "for i in range(n+1, 0, -1):    \n",
    "    for j in range(0, i - 1):\n",
    "        print(\"*\", end=' ')  \n",
    "    print(\" \")"
   ]
  },
  {
   "cell_type": "code",
   "execution_count": null,
   "id": "fdde9883",
   "metadata": {},
   "outputs": [],
   "source": []
  }
 ],
 "metadata": {
  "kernelspec": {
   "display_name": "Python 3",
   "language": "python",
   "name": "python3"
  },
  "language_info": {
   "codemirror_mode": {
    "name": "ipython",
    "version": 3
   },
   "file_extension": ".py",
   "mimetype": "text/x-python",
   "name": "python",
   "nbconvert_exporter": "python",
   "pygments_lexer": "ipython3",
   "version": "3.8.8"
  }
 },
 "nbformat": 4,
 "nbformat_minor": 5
}
