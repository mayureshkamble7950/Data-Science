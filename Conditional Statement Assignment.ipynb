{
 "cells": [
  {
   "cell_type": "markdown",
   "id": "d15c35da",
   "metadata": {},
   "source": [
    "## Program to find the maximum number"
   ]
  },
  {
   "cell_type": "code",
   "execution_count": 9,
   "id": "24775bff",
   "metadata": {},
   "outputs": [
    {
     "name": "stdout",
     "output_type": "stream",
     "text": [
      "enter the first number50\n",
      "enter the second number34\n",
      "enter the third number89\n",
      "89 is greater number\n"
     ]
    }
   ],
   "source": [
    "n1 = int(input(\"enter the first number\"))\n",
    "n2 = int(input(\"enter the second number\"))\n",
    "n3 = int(input(\"enter the third number\"))\n",
    "if n1 > n2 and n1 > n3:\n",
    "    print(f\"{n1} is greater number\")\n",
    "elif n2 > n1 and n2 > n3:\n",
    "    print(f\"{n2} is greater number\")\n",
    "else:\n",
    "    print(f\"{n3} is greater number\")"
   ]
  },
  {
   "cell_type": "markdown",
   "id": "cfb4c0b0",
   "metadata": {},
   "source": [
    "## Program To find even or odd"
   ]
  },
  {
   "cell_type": "code",
   "execution_count": 5,
   "id": "6fb10fd7",
   "metadata": {},
   "outputs": [
    {
     "name": "stdout",
     "output_type": "stream",
     "text": [
      "Enter the number2\n",
      "2 is an even number\n"
     ]
    }
   ],
   "source": [
    "num = int(input(\"Enter the number\"))\n",
    "if num > 0:\n",
    "    if num%2 == 0:\n",
    "        print(f\"{num} is an even number\")\n",
    "    else:\n",
    "        print(f\"{num} is an odd number\")\n",
    "else:\n",
    "    print(\"0 is neither even nor odd\")"
   ]
  },
  {
   "cell_type": "markdown",
   "id": "365729f0",
   "metadata": {},
   "source": [
    "## Read an year and find whether that year is leap or not\n"
   ]
  },
  {
   "cell_type": "code",
   "execution_count": 3,
   "id": "62b1f882",
   "metadata": {},
   "outputs": [
    {
     "name": "stdout",
     "output_type": "stream",
     "text": [
      "enter the year1999\n",
      "1999 is not a leap year\n"
     ]
    }
   ],
   "source": [
    "year = int(input(\"enter the year\"))\n",
    "if (year%4 == 0) and (year%100 == 0):\n",
    "    print(f'{year} is a leap year and century year')\n",
    "elif (year%4==0) and (year%100!=0):\n",
    "    print(f'{year} is a leap year')\n",
    "else:\n",
    "    print(f\"{year} is not a leap year\")"
   ]
  },
  {
   "cell_type": "markdown",
   "id": "be2f6bfc",
   "metadata": {},
   "source": [
    "## Read marks in percentages from student and find the grade of it as per below condition\n"
   ]
  },
  {
   "cell_type": "code",
   "execution_count": 12,
   "id": "fdd22e9e",
   "metadata": {},
   "outputs": [
    {
     "name": "stdout",
     "output_type": "stream",
     "text": [
      "enter the percentage of student35\n",
      "FAIL!!\n"
     ]
    }
   ],
   "source": [
    "per = int(input(\"enter the percentage of student\"))\n",
    "if per > 75:\n",
    "    print(\"Distinction\")\n",
    "elif 60 <= per <= 75:\n",
    "    print(\"First Class\")\n",
    "elif 50 <= per <60:\n",
    "    print(\"Second Class\")\n",
    "elif 40 <= per < 50:\n",
    "    print(\"Pass Class\")\n",
    "else:\n",
    "    print(\"FAIL!!\")"
   ]
  },
  {
   "cell_type": "markdown",
   "id": "ee474e2b",
   "metadata": {},
   "source": [
    "## Write a Python program to calculate profit or loss"
   ]
  },
  {
   "cell_type": "code",
   "execution_count": 20,
   "id": "4ecc05cd",
   "metadata": {},
   "outputs": [
    {
     "name": "stdout",
     "output_type": "stream",
     "text": [
      "enter the cost price900\n",
      "enter the selling price1200\n",
      "The profit earned is Rs.300\n"
     ]
    }
   ],
   "source": [
    "cp = int(input(\"enter the cost price\"))\n",
    "sp = int(input(\"enter the selling price\"))\n",
    "if sp and cp >0:\n",
    "    if sp - cp > 0:\n",
    "        print(f\"The profit earned is Rs.{sp - cp}\")\n",
    "    elif sp - cp == 0:\n",
    "        print(\"The deal is a nil\")\n",
    "    else:\n",
    "        print(f\"The loss incurred is Rs.{sp - cp}\")\n",
    "else:\n",
    "    print(\"Invalid input\")\n"
   ]
  },
  {
   "cell_type": "markdown",
   "id": "19279e03",
   "metadata": {},
   "source": [
    "## Write a Python program to check whether a character is upper or lowercase"
   ]
  },
  {
   "cell_type": "code",
   "execution_count": 31,
   "id": "ca974d7c",
   "metadata": {},
   "outputs": [
    {
     "name": "stdout",
     "output_type": "stream",
     "text": [
      "enter the characterA\n",
      "The character is uppercase\n"
     ]
    }
   ],
   "source": [
    "ch = input(\"enter the character\")\n",
    "if ch.isupper():\n",
    "    print(\"The character is uppercase\")\n",
    "elif ch.islower():\n",
    "    print(\"the character is lowercase\")\n",
    "else:\n",
    "    print(\"Input must be a character\")"
   ]
  },
  {
   "cell_type": "code",
   "execution_count": 30,
   "id": "21bf384c",
   "metadata": {},
   "outputs": [],
   "source": [
    "# Write a Python program to input electricity unit charges and\n",
    "# calculate total electricity bill according to the given condition:\n",
    "# – For first 50 units Rs. 0.50/unit\n",
    "# – For next 100 units Rs. 0.75/unit\n",
    "# – For next 100 units Rs. 1.25/unit\n",
    "# – For unit above 250 Rs. 1.50/unit\n",
    "# – An additional surcharge of 17% is added to the bill"
   ]
  },
  {
   "cell_type": "code",
   "execution_count": 10,
   "id": "b2151ca9",
   "metadata": {},
   "outputs": [
    {
     "name": "stdout",
     "output_type": "stream",
     "text": [
      "Enter the unit consumed160\n",
      "Your electricity bill is Rs. 240.0\n"
     ]
    }
   ],
   "source": [
    "unit = int(input(\"Enter the unit consumed\"))\n",
    "if unit <=50:\n",
    "    bill = unit * 0.50\n",
    "    amt = bill + bill * 0.2\n",
    "elif 50 > unit < 150:\n",
    "    bill = unit * 0.75\n",
    "    amt = bill + bill * 0.2\n",
    "elif 150 < unit < 250:\n",
    "    bill = unit * 1.25\n",
    "    amt = bill + bill * 0.2\n",
    "elif unit >= 250:\n",
    "    bill = unit * 1.5\n",
    "    amt = bill + bill * 0.2\n",
    "print(\"Your electricity bill is Rs.\",amt)\n",
    "    "
   ]
  },
  {
   "cell_type": "code",
   "execution_count": null,
   "id": "23d8b205",
   "metadata": {},
   "outputs": [],
   "source": []
  }
 ],
 "metadata": {
  "kernelspec": {
   "display_name": "Python 3",
   "language": "python",
   "name": "python3"
  },
  "language_info": {
   "codemirror_mode": {
    "name": "ipython",
    "version": 3
   },
   "file_extension": ".py",
   "mimetype": "text/x-python",
   "name": "python",
   "nbconvert_exporter": "python",
   "pygments_lexer": "ipython3",
   "version": "3.8.8"
  }
 },
 "nbformat": 4,
 "nbformat_minor": 5
}
